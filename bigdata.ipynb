{
 "cells": [
  {
   "cell_type": "code",
   "execution_count": 1,
   "id": "23ed08d3-ee54-459c-8405-abd759811350",
   "metadata": {},
   "outputs": [],
   "source": [
    "import shapely.geometry\n",
    "import geopandas as gpd"
   ]
  },
  {
   "cell_type": "code",
   "execution_count": 2,
   "id": "ec1f6675-31cb-443d-8aea-601c78c3af7e",
   "metadata": {},
   "outputs": [],
   "source": [
    "from gtfs_utils import load_gtfs"
   ]
  },
  {
   "cell_type": "code",
   "execution_count": 3,
   "id": "5d297ec9-851e-4ce1-8a6a-aea04c2d3184",
   "metadata": {},
   "outputs": [],
   "source": [
    "df_dict = load_gtfs(\"/Users/luis/Developer/PyCharm/upscore/data/germany-latest\")"
   ]
  },
  {
   "cell_type": "code",
   "execution_count": 4,
   "id": "5a85ef19-e068-47ea-9606-83afbffb4cf4",
   "metadata": {},
   "outputs": [
    {
     "data": {
      "text/html": [
       "<div>\n",
       "<style scoped>\n",
       "    .dataframe tbody tr th:only-of-type {\n",
       "        vertical-align: middle;\n",
       "    }\n",
       "\n",
       "    .dataframe tbody tr th {\n",
       "        vertical-align: top;\n",
       "    }\n",
       "\n",
       "    .dataframe thead th {\n",
       "        text-align: right;\n",
       "    }\n",
       "</style>\n",
       "<table border=\"1\" class=\"dataframe\">\n",
       "  <thead>\n",
       "    <tr style=\"text-align: right;\">\n",
       "      <th></th>\n",
       "      <th>stop_id</th>\n",
       "      <th>geometry</th>\n",
       "    </tr>\n",
       "  </thead>\n",
       "  <tbody>\n",
       "    <tr>\n",
       "      <th>0</th>\n",
       "      <td>909684</td>\n",
       "      <td>POINT (6.24734 51.87225)</td>\n",
       "    </tr>\n",
       "    <tr>\n",
       "      <th>1</th>\n",
       "      <td>167505</td>\n",
       "      <td>POINT (6.24727 51.87222)</td>\n",
       "    </tr>\n",
       "    <tr>\n",
       "      <th>2</th>\n",
       "      <td>815255</td>\n",
       "      <td>POINT (6.24741 51.87228)</td>\n",
       "    </tr>\n",
       "    <tr>\n",
       "      <th>3</th>\n",
       "      <td>691093</td>\n",
       "      <td>POINT (6.24741 51.87228)</td>\n",
       "    </tr>\n",
       "    <tr>\n",
       "      <th>4</th>\n",
       "      <td>127587</td>\n",
       "      <td>POINT (6.24727 51.87222)</td>\n",
       "    </tr>\n",
       "    <tr>\n",
       "      <th>...</th>\n",
       "      <td>...</td>\n",
       "      <td>...</td>\n",
       "    </tr>\n",
       "    <tr>\n",
       "      <th>1146336</th>\n",
       "      <td>203886</td>\n",
       "      <td>POINT (15.84793 50.40331)</td>\n",
       "    </tr>\n",
       "    <tr>\n",
       "      <th>1146337</th>\n",
       "      <td>567221</td>\n",
       "      <td>POINT (15.84793 50.40331)</td>\n",
       "    </tr>\n",
       "    <tr>\n",
       "      <th>1146338</th>\n",
       "      <td>663978</td>\n",
       "      <td>POINT (18.69595 45.07754)</td>\n",
       "    </tr>\n",
       "    <tr>\n",
       "      <th>1146339</th>\n",
       "      <td>88106</td>\n",
       "      <td>POINT (18.69595 45.07754)</td>\n",
       "    </tr>\n",
       "    <tr>\n",
       "      <th>1146340</th>\n",
       "      <td>788606</td>\n",
       "      <td>POINT (18.69595 45.07754)</td>\n",
       "    </tr>\n",
       "  </tbody>\n",
       "</table>\n",
       "<p>1146341 rows × 2 columns</p>\n",
       "</div>"
      ],
      "text/plain": [
       "         stop_id                   geometry\n",
       "0         909684   POINT (6.24734 51.87225)\n",
       "1         167505   POINT (6.24727 51.87222)\n",
       "2         815255   POINT (6.24741 51.87228)\n",
       "3         691093   POINT (6.24741 51.87228)\n",
       "4         127587   POINT (6.24727 51.87222)\n",
       "...          ...                        ...\n",
       "1146336   203886  POINT (15.84793 50.40331)\n",
       "1146337   567221  POINT (15.84793 50.40331)\n",
       "1146338   663978  POINT (18.69595 45.07754)\n",
       "1146339    88106  POINT (18.69595 45.07754)\n",
       "1146340   788606  POINT (18.69595 45.07754)\n",
       "\n",
       "[1146341 rows x 2 columns]"
      ]
     },
     "execution_count": 4,
     "metadata": {},
     "output_type": "execute_result"
    }
   ],
   "source": [
    "dic = df_dict[\"stops\"][[\"stop_lon\", \"stop_lat\", \"stop_id\"]].compute()\n",
    "d = gpd.GeoDataFrame(\n",
    "    dic[\"stop_id\"], geometry=gpd.points_from_xy(dic.stop_lon, dic.stop_lat)\n",
    ")\n",
    "del dic"
   ]
  },
  {
   "cell_type": "code",
   "execution_count": null,
   "id": "745fe052-0f7a-4074-8e77-08ed308ebad0",
   "metadata": {},
   "outputs": [],
   "source": []
  },
  {
   "cell_type": "code",
   "execution_count": 5,
   "id": "d26df632-dc0e-4f3e-83cb-09a0d38824d7",
   "metadata": {},
   "outputs": [],
   "source": [
    "geom = shapely.geometry.box(\n",
    "    *[\n",
    "        8.88530041045740746562,\n",
    "        46.34379183997860392404,\n",
    "        14.27013758954259253438,\n",
    "        49.93713016002139607596,\n",
    "    ]\n",
    ")"
   ]
  },
  {
   "cell_type": "code",
   "execution_count": 6,
   "id": "761d7778-c2e9-4e25-ad8a-4c6ab675557b",
   "metadata": {},
   "outputs": [],
   "source": [
    "mask = d.within(geom)\n",
    "d = d[mask]"
   ]
  },
  {
   "cell_type": "code",
   "execution_count": 7,
   "id": "f77e995d-a0d8-4878-8ea6-043e1966a0f8",
   "metadata": {},
   "outputs": [
    {
     "data": {
      "text/plain": [
       "['/Users/luis/Developer/PyCharm/gtfsutils/test/stops.txt']"
      ]
     },
     "execution_count": 7,
     "metadata": {},
     "output_type": "execute_result"
    }
   ],
   "source": [
    "# filter stops.txt -\n",
    "stop_ids = d[\"stop_id\"].values\n",
    "mask = df_dict[\"stops\"][\"stop_id\"].isin(stop_ids)\n",
    "df_dict[\"stops\"][mask].to_csv(\"test/stops.txt\", single_file=True)"
   ]
  },
  {
   "cell_type": "code",
   "execution_count": 8,
   "id": "a43b7658-316d-42da-bf34-d73fb111b190",
   "metadata": {},
   "outputs": [],
   "source": [
    "# filter transfers.txt\n",
    "if \"transfers\" in df_dict:\n",
    "    mask = df_dict[\"transfers\"][\"from_stop_id\"].isin(stop_ids) & df_dict[\"transfers\"][\n",
    "        \"to_stop_id\"\n",
    "    ].isin(stop_ids)\n",
    "    df_dict[\"transfers\"] = df_dict[\"transfers\"][mask]\n",
    "    df_dict[\"transfers\"].to_csv(\"test/transfers.txt\", single_file=True)"
   ]
  },
  {
   "cell_type": "code",
   "execution_count": 9,
   "id": "8cf77f04-f0ad-48b0-a183-b7c18645d2ea",
   "metadata": {},
   "outputs": [
    {
     "name": "stdout",
     "output_type": "stream",
     "text": [
      "CPU times: user 6min 56s, sys: 1min 40s, total: 8min 37s\n",
      "Wall time: 4min 9s\n"
     ]
    },
    {
     "data": {
      "text/plain": [
       "['/Users/luis/Developer/PyCharm/gtfsutils/test/stop_times.txt']"
      ]
     },
     "execution_count": 9,
     "metadata": {},
     "output_type": "execute_result"
    }
   ],
   "source": [
    "%%time\n",
    "\n",
    "# filter stop_times.txt -\n",
    "mask = df_dict[\"stop_times\"][\"stop_id\"].isin(stop_ids)\n",
    "unique_trip_ids = df_dict[\"stop_times\"][mask][\"trip_id\"].unique()\n",
    "trip_ids = unique_trip_ids.values.compute()\n",
    "mask = df_dict[\"stop_times\"][\"trip_id\"].isin(trip_ids)\n",
    "df_dict[\"stop_times\"][mask].to_csv(\"test/stop_times.txt\", single_file=True)"
   ]
  },
  {
   "cell_type": "code",
   "execution_count": 10,
   "id": "3da944f5-4182-4eb5-838b-e6d8b12c9c25",
   "metadata": {},
   "outputs": [
    {
     "name": "stdout",
     "output_type": "stream",
     "text": [
      "CPU times: user 13.7 s, sys: 3.3 s, total: 17 s\n",
      "Wall time: 10.3 s\n"
     ]
    },
    {
     "data": {
      "text/plain": [
       "['/Users/luis/Developer/PyCharm/gtfsutils/test/trips.txt']"
      ]
     },
     "execution_count": 10,
     "metadata": {},
     "output_type": "execute_result"
    }
   ],
   "source": [
    "%%time\n",
    "\n",
    "# filter trips.txt -\n",
    "mask = df_dict[\"trips\"][\"trip_id\"].isin(trip_ids)\n",
    "df_dict[\"trips\"] = df_dict[\"trips\"][mask]\n",
    "df_dict[\"trips\"].to_csv(\"test/trips.txt\", single_file=True)\n",
    "\n",
    "del trip_ids"
   ]
  },
  {
   "cell_type": "code",
   "execution_count": 11,
   "id": "085abcb5-ccad-46fa-915c-7169accf2e68",
   "metadata": {},
   "outputs": [
    {
     "name": "stdout",
     "output_type": "stream",
     "text": [
      "CPU times: user 8 s, sys: 2.88 s, total: 10.9 s\n",
      "Wall time: 3.98 s\n"
     ]
    },
    {
     "data": {
      "text/plain": [
       "['/Users/luis/Developer/PyCharm/gtfsutils/test/routes.txt']"
      ]
     },
     "execution_count": 11,
     "metadata": {},
     "output_type": "execute_result"
    }
   ],
   "source": [
    "%%time\n",
    "\n",
    "# Filter route.txt\n",
    "route_ids = df_dict[\"trips\"][\"route_id\"].values\n",
    "mask = df_dict[\"routes\"][\"route_id\"].isin(route_ids.compute())\n",
    "df_dict[\"routes\"] = df_dict[\"routes\"][mask]\n",
    "df_dict[\"routes\"].to_csv(\"test/routes.txt\", single_file=True)"
   ]
  },
  {
   "cell_type": "code",
   "execution_count": 12,
   "id": "e34289c1-1306-417c-b45c-8d65b948b199",
   "metadata": {},
   "outputs": [
    {
     "name": "stdout",
     "output_type": "stream",
     "text": [
      "CPU times: user 40 ms, sys: 20.1 ms, total: 60.1 ms\n",
      "Wall time: 58.5 ms\n"
     ]
    },
    {
     "data": {
      "text/plain": [
       "['/Users/luis/Developer/PyCharm/gtfsutils/test/agency.txt']"
      ]
     },
     "execution_count": 12,
     "metadata": {},
     "output_type": "execute_result"
    }
   ],
   "source": [
    "%%time\n",
    "\n",
    "# Filter agency.txt\n",
    "agency_ids = df_dict[\"routes\"][\"agency_id\"].values\n",
    "mask = df_dict[\"agency\"][\"agency_id\"].isin(agency_ids.compute())\n",
    "df_dict[\"agency\"] = df_dict[\"agency\"][mask]\n",
    "df_dict[\"agency\"].to_csv(\"test/agency.txt\", single_file=True)"
   ]
  },
  {
   "cell_type": "code",
   "execution_count": null,
   "id": "f98e9e68-d99c-4625-9fc8-60cf6f98f0a8",
   "metadata": {},
   "outputs": [],
   "source": []
  }
 ],
 "metadata": {
  "kernelspec": {
   "display_name": "Python 3 (ipykernel)",
   "language": "python",
   "name": "python3"
  },
  "language_info": {
   "codemirror_mode": {
    "name": "ipython",
    "version": 3
   },
   "file_extension": ".py",
   "mimetype": "text/x-python",
   "name": "python",
   "nbconvert_exporter": "python",
   "pygments_lexer": "ipython3",
   "version": "3.9.7"
  }
 },
 "nbformat": 4,
 "nbformat_minor": 5
}
